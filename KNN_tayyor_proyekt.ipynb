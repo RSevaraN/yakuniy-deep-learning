{
  "nbformat": 4,
  "nbformat_minor": 0,
  "metadata": {
    "colab": {
      "provenance": [],
      "include_colab_link": true
    },
    "kernelspec": {
      "name": "python3",
      "display_name": "Python 3"
    },
    "language_info": {
      "name": "python"
    }
  },
  "cells": [
    {
      "cell_type": "markdown",
      "metadata": {
        "id": "view-in-github",
        "colab_type": "text"
      },
      "source": [
        "<a href=\"https://colab.research.google.com/github/RSevaraN/yakuniy-deep-learning/blob/main/KNN_tayyor_proyekt.ipynb\" target=\"_parent\"><img src=\"https://colab.research.google.com/assets/colab-badge.svg\" alt=\"Open In Colab\"/></a>"
      ]
    },
    {
      "cell_type": "code",
      "execution_count": 17,
      "metadata": {
        "id": "lgaGb-oIruUo"
      },
      "outputs": [],
      "source": [
        "import pandas as pd\n",
        "import numpy as np\n",
        "from sklearn.neighbors import KNeighborsClassifier\n",
        "from sklearn.model_selection import train_test_split, cross_val_score\n",
        "from sklearn.metrics import accuracy_score\n",
        "from sklearn.preprocessing import LabelEncoder\n",
        "from sklearn.preprocessing import StandardScaler,MinMaxScaler\n",
        "from sklearn.impute import SimpleImputer"
      ]
    },
    {
      "cell_type": "code",
      "source": [
        "df = pd.read_csv('DATAKNN.csv')"
      ],
      "metadata": {
        "id": "hAHg7QS9F3A_"
      },
      "execution_count": 27,
      "outputs": []
    },
    {
      "cell_type": "code",
      "source": [
        "\n",
        "\n",
        "d = {'Qoniqarli':0, 'Yaxshi':1, 'A_lo':2}\n",
        "df['Davomat'] = df['Davomat'].map(d)\n",
        "\n",
        "d = {'Ba_zan ':0, 'Har_doim':1}\n",
        "df['Darsda_qatnashishi'] = df['Darsda_qatnashishi'].map(d)\n",
        "\n",
        "d = {'Qoniqarli':0, 'Yaxshi':1, 'Tuliq':2}\n",
        "df['Daftar'] = df['Daftar'].map(d)\n",
        "\n",
        "d = {'Ha_sohaga_oid_emas': 0, 'Yuq': 1, 'Ha_sohaga_oid': 2}\n",
        "df['Qushimcha_ish'] = df['Qushimcha_ish'].map(d)\n",
        "\n",
        "d = { 'Yuq': 0, 'Ha': 1}\n",
        "df['Tugarak_yoki_kurs'] = df['Tugarak_yoki_kurs'].map(d)\n",
        "\n",
        "cclass = df.Class\n",
        "df.drop('Class', axis=1, inplace=True)\n",
        "df.drop('ID', axis=1, inplace=True)\n",
        "#print(df)\n",
        "#print(cclass)\n"
      ],
      "metadata": {
        "id": "QvgBF3iO3Y4d"
      },
      "execution_count": 18,
      "outputs": []
    },
    {
      "cell_type": "code",
      "source": [
        "\n",
        "Xtrain, Xtest, y_train, y_test = train_test_split(df, cclass, train_size = 0.8)\n",
        "\n"
      ],
      "metadata": {
        "id": "zeXp-Nr8bgVe"
      },
      "execution_count": 19,
      "outputs": []
    },
    {
      "cell_type": "code",
      "source": [
        "# qushimcha qushildi\n",
        "imputer = SimpleImputer(strategy='mean') # Create an imputer instance\n",
        "Xtrain = imputer.fit_transform(Xtrain) # Fit and transform on training data\n",
        "Xtest = imputer.transform(Xtest)"
      ],
      "metadata": {
        "id": "vukVdifd-C1q"
      },
      "execution_count": 20,
      "outputs": []
    },
    {
      "cell_type": "markdown",
      "source": [
        "Standartlashtirish:"
      ],
      "metadata": {
        "id": "d-TKUU7hcx0n"
      }
    },
    {
      "cell_type": "code",
      "source": [
        "\n",
        "scaler = StandardScaler()\n",
        "Xtrain = scaler.fit_transform(Xtrain)\n",
        "Xtest = scaler.transform(Xtest)\n",
        "\n",
        "import matplotlib.pyplot as plt\n",
        "\n",
        "k=list(range(1, 41))\n",
        "acc = []\n",
        "\n",
        "for i in k:\n",
        "  knn = KNeighborsClassifier(n_neighbors=i)\n",
        "  knn.fit(Xtrain, y_train)\n",
        "  y_pred = knn.predict(Xtest)\n",
        "  acc.append(accuracy_score(y_test, y_pred))\n",
        "\n",
        "\n",
        "plt.plot(k, acc)\n",
        "\n",
        "optimal_k = k[np.argmax(acc)]\n",
        "print(f'Optimal k qiymati: {optimal_k}')\n",
        "print(acc[optimal_k-1])\n"
      ],
      "metadata": {
        "colab": {
          "base_uri": "https://localhost:8080/",
          "height": 465
        },
        "id": "yClzbP_zcvyM",
        "outputId": "44d16177-56d5-4539-adac-71695fcaf8d5"
      },
      "execution_count": 22,
      "outputs": [
        {
          "output_type": "stream",
          "name": "stdout",
          "text": [
            "Optimal k qiymati: 10\n",
            "0.9285714285714286\n"
          ]
        },
        {
          "output_type": "display_data",
          "data": {
            "text/plain": [
              "<Figure size 640x480 with 1 Axes>"
            ],
            "image/png": "[encoded data removed]"
          },
          "metadata": {}
        }
      ]
    },
    {
      "cell_type": "markdown",
      "source": [
        "Normallashtirish:"
      ],
      "metadata": {
        "id": "FaoW4i4hc4K2"
      }
    },
    {
      "cell_type": "code",
      "source": [
        "min_max_scaler = MinMaxScaler()\n",
        "Xtrain = min_max_scaler.fit_transform(Xtrain)\n",
        "Xtest = min_max_scaler.transform(Xtest)\n",
        "\n",
        "import matplotlib.pyplot as plt\n",
        "\n",
        "k=list(range(1, 41))\n",
        "acc = []\n",
        "for i in k:\n",
        "  knn = KNeighborsClassifier(n_neighbors=i)\n",
        "  knn.fit(Xtrain, y_train)\n",
        "  y_pred = knn.predict(Xtest)\n",
        "  acc.append(accuracy_score(y_test, y_pred))\n",
        "\n",
        "plt.plot(k, acc)\n",
        "\n",
        "optimal_k = k[np.argmax(acc)]\n",
        "print(f'Optimal k qiymati: {optimal_k}')\n",
        "print(acc[optimal_k-1])"
      ],
      "metadata": {
        "colab": {
          "base_uri": "https://localhost:8080/",
          "height": 465
        },
        "id": "JJkPqfQOc6Le",
        "outputId": "145716e2-3295-4f2d-e00a-93dcf388feac"
      },
      "execution_count": 23,
      "outputs": [
        {
          "output_type": "stream",
          "name": "stdout",
          "text": [
            "Optimal k qiymati: 3\n",
            "0.9285714285714286\n"
          ]
        },
        {
          "output_type": "display_data",
          "data": {
            "text/plain": [
              "<Figure size 640x480 with 1 Axes>"
            ],
            "image/png": "[encoded data removed]"
          },
          "metadata": {}
        }
      ]
    },
    {
      "cell_type": "code",
      "source": [
        "k = int(input(\"K ning qiymatini kiriting: \"))\n",
        "knn = KNeighborsClassifier(n_neighbors=k)\n",
        "\n",
        "knn.fit(Xtrain, y_train)\n",
        "y_pred = knn.predict(Xtest)\n",
        "print(\"Model aniqligi:\", accuracy_score(y_test, y_pred))"
      ],
      "metadata": {
        "colab": {
          "base_uri": "https://localhost:8080/"
        },
        "id": "yDtb8I90stSA",
        "outputId": "b7fba7f3-06b1-480c-e609-a603dd1f8332"
      },
      "execution_count": 24,
      "outputs": [
        {
          "output_type": "stream",
          "name": "stdout",
          "text": [
            "K ning qiymatini kiriting: 3\n",
            "Model aniqligi: 0.9285714285714286\n"
          ]
        }
      ]
    },
    {
      "cell_type": "code",
      "source": [
        "new_Davomat = int(input(\"Davomatning qiymatini kiriting: \"))\n",
        "new_Darsda_qatnashishi= int(input(\"Darsda_qatnashishi ning qiymatini kiriting: \"))\n",
        "new_Amaliyot_bahosi = int(input(\"Amaliyot bahosining  qiymatini kiriting: \"))\n",
        "new_Mustaqil_ta_lim = int(input(\"Mustaqil ta'lim bahosining  qiymatini kiriting: \"))\n",
        "new_Daftar = int(input(\" Daftar ning qiymatini kiriting: \"))\n",
        "new_Qushimcha_ish = int(input(\" Qushimcha_ish ning qiymatini kiriting: \"))\n",
        "new_Tugarak_yoki_kurs=int(input(\"Tugarak_yoki_kursning qiymatini kiriting: \"))\n",
        "new_Laboratoriya_bahosi=int(input(\"Laboratoriya bahosining  qiymatini kiriting: \"))\n",
        "new_instance = [(new_Davomat,new_Darsda_qatnashishi,new_Amaliyot_bahosi,new_Mustaqil_ta_lim,new_Daftar, new_Qushimcha_ish,new_Tugarak_yoki_kurs,\n",
        "                 new_Laboratoriya_bahosi )]\n",
        "print(new_instance)\n",
        "print(knn.predict(new_instance))"
      ],
      "metadata": {
        "colab": {
          "base_uri": "https://localhost:8080/"
        },
        "id": "XzYdQdYEDu4A",
        "outputId": "ccbc4323-45d3-40e7-fafa-a765cfcc499c"
      },
      "execution_count": 25,
      "outputs": [
        {
          "output_type": "stream",
          "name": "stdout",
          "text": [
            "Davomatning qiymatini kiriting: 3\n",
            "Darsda_qatnashishi ning qiymatini kiriting: 4\n",
            "Amaliyot bahosining  qiymatini kiriting: 5\n",
            "Mustaqil ta'lim bahosining  qiymatini kiriting: 5\n",
            " Daftar ning qiymatini kiriting: 2\n",
            " Qushimcha_ish ning qiymatini kiriting: 2\n",
            "Tugarak_yoki_kursning qiymatini kiriting: 2\n",
            "Laboratoriya bahosining  qiymatini kiriting: 4\n",
            "[(3, 4, 5, 5, 2, 2, 2, 4)]\n",
            "[5]\n"
          ]
        }
      ]
    }
  ]
}