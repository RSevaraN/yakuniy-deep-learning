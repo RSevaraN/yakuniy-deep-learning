{
  "nbformat": 4,
  "nbformat_minor": 0,
  "metadata": {
    "colab": {
      "provenance": [],
      "include_colab_link": true
    },
    "kernelspec": {
      "name": "python3",
      "display_name": "Python 3"
    },
    "language_info": {
      "name": "python"
    }
  },
  "cells": [
    {
      "cell_type": "markdown",
      "metadata": {
        "id": "view-in-github",
        "colab_type": "text"
      },
      "source": [
        "<a href=\"https://colab.research.google.com/github/RSevaraN/yakuniy-deep-learning/blob/main/KNNdata.ipynb\" target=\"_parent\"><img src=\"https://colab.research.google.com/assets/colab-badge.svg\" alt=\"Open In Colab\"/></a>"
      ]
    },
    {
      "cell_type": "code",
      "execution_count": null,
      "metadata": {
        "colab": {
          "base_uri": "https://localhost:8080/",
          "height": 382
        },
        "id": "6UPkXLU5S0ld",
        "outputId": "d924e767-8718-4bd3-86f7-6e2b182aa136"
      },
      "outputs": [
        {
          "name": "stdout",
          "output_type": "stream",
          "text": [
            "K ning qiymatini kiriting: 5\n"
          ]
        },
        {
          "output_type": "error",
          "ename": "AttributeError",
          "evalue": "'DataFrame' object has no attribute 'Davomat'",
          "traceback": [
            "\u001b[0;31m---------------------------------------------------------------------------\u001b[0m",
            "\u001b[0;31mAttributeError\u001b[0m                            Traceback (most recent call last)",
            "\u001b[0;32m<ipython-input-2-c98f0524cc42>\u001b[0m in \u001b[0;36m<cell line: 8>\u001b[0;34m()\u001b[0m\n\u001b[1;32m      6\u001b[0m \u001b[0mdf\u001b[0m \u001b[0;34m=\u001b[0m \u001b[0mpandas\u001b[0m\u001b[0;34m.\u001b[0m\u001b[0mread_csv\u001b[0m\u001b[0;34m(\u001b[0m\u001b[0;34m'data232.csv'\u001b[0m\u001b[0;34m)\u001b[0m\u001b[0;34m\u001b[0m\u001b[0;34m\u001b[0m\u001b[0m\n\u001b[1;32m      7\u001b[0m \u001b[0mname_ID\u001b[0m\u001b[0;34m=\u001b[0m \u001b[0mdf\u001b[0m\u001b[0;34m.\u001b[0m\u001b[0mID\u001b[0m\u001b[0;34m\u001b[0m\u001b[0;34m\u001b[0m\u001b[0m\n\u001b[0;32m----> 8\u001b[0;31m \u001b[0mnew_Davomat\u001b[0m \u001b[0;34m=\u001b[0m \u001b[0mdf\u001b[0m\u001b[0;34m.\u001b[0m\u001b[0mDavomat\u001b[0m\u001b[0;34m\u001b[0m\u001b[0;34m\u001b[0m\u001b[0m\n\u001b[0m\u001b[1;32m      9\u001b[0m \u001b[0mnew_Darsda_qatnashishi\u001b[0m\u001b[0;34m=\u001b[0m\u001b[0mdf\u001b[0m\u001b[0;34m.\u001b[0m\u001b[0mDarsda_qatnashishi\u001b[0m\u001b[0;34m\u001b[0m\u001b[0;34m\u001b[0m\u001b[0m\n\u001b[1;32m     10\u001b[0m \u001b[0mnew_Amaliyot_bahosi\u001b[0m \u001b[0;34m=\u001b[0m \u001b[0mdf\u001b[0m\u001b[0;34m.\u001b[0m\u001b[0mAmaliyot_bahosi\u001b[0m\u001b[0;34m\u001b[0m\u001b[0;34m\u001b[0m\u001b[0m\n",
            "\u001b[0;32m/usr/local/lib/python3.10/dist-packages/pandas/core/generic.py\u001b[0m in \u001b[0;36m__getattr__\u001b[0;34m(self, name)\u001b[0m\n\u001b[1;32m   5987\u001b[0m         ):\n\u001b[1;32m   5988\u001b[0m             \u001b[0;32mreturn\u001b[0m \u001b[0mself\u001b[0m\u001b[0;34m[\u001b[0m\u001b[0mname\u001b[0m\u001b[0;34m]\u001b[0m\u001b[0;34m\u001b[0m\u001b[0;34m\u001b[0m\u001b[0m\n\u001b[0;32m-> 5989\u001b[0;31m         \u001b[0;32mreturn\u001b[0m \u001b[0mobject\u001b[0m\u001b[0;34m.\u001b[0m\u001b[0m__getattribute__\u001b[0m\u001b[0;34m(\u001b[0m\u001b[0mself\u001b[0m\u001b[0;34m,\u001b[0m \u001b[0mname\u001b[0m\u001b[0;34m)\u001b[0m\u001b[0;34m\u001b[0m\u001b[0;34m\u001b[0m\u001b[0m\n\u001b[0m\u001b[1;32m   5990\u001b[0m \u001b[0;34m\u001b[0m\u001b[0m\n\u001b[1;32m   5991\u001b[0m     \u001b[0;32mdef\u001b[0m \u001b[0m__setattr__\u001b[0m\u001b[0;34m(\u001b[0m\u001b[0mself\u001b[0m\u001b[0;34m,\u001b[0m \u001b[0mname\u001b[0m\u001b[0;34m:\u001b[0m \u001b[0mstr\u001b[0m\u001b[0;34m,\u001b[0m \u001b[0mvalue\u001b[0m\u001b[0;34m)\u001b[0m \u001b[0;34m->\u001b[0m \u001b[0;32mNone\u001b[0m\u001b[0;34m:\u001b[0m\u001b[0;34m\u001b[0m\u001b[0;34m\u001b[0m\u001b[0m\n",
            "\u001b[0;31mAttributeError\u001b[0m: 'DataFrame' object has no attribute 'Davomat'"
          ]
        }
      ],
      "source": [
        "import pandas\n",
        "from sklearn.neighbors import KNeighborsClassifier\n",
        "from sklearn.model_selection import train_test_split\n",
        "from sklearn.metrics import accuracy_score\n",
        "k = int(input(\"K ning qiymatini kiriting: \"))\n",
        "df = pandas.read_csv('data232.csv')\n",
        "name_ID= df.ID\n",
        "new_Davomat = df.Davomat\n",
        "new_Darsda_qatnashishi=df.Darsda_qatnashishi\n",
        "new_Amaliyot_bahosi = df.Amaliyot_bahosi\n",
        "new_Mustaqil_ta_lim= df.Mustaqil_ta_lim\n",
        "new_Daftar = df.Daftar\n",
        "new_Qushimcha_ish = df.Qushimcha_ish\n",
        "new_Tugarak_yoki_kurs = df.Tugarak_yoki_kurs\n",
        "new_Laboratoriya_bahosi = df.Laboratoriya_bahosi\n",
        "cclass = df.Class\n",
        "data = list(zip(name_ID, new_Davomat,new_Darsda_qatnashishi,new_Amaliyot_bahosi,new_Mustaqil_ta_lim,new_Daftar,new_Qushimcha_ish,new_Tugarak_yoki_kurs,new_Laboratoriya_bahosi))\n",
        "knn = KNeighborsClassifier(n_neighbors=k)\n",
        "new_Davomat = (input(\"Davomatning qiymatini kiriting: \"))\n",
        "new_Darsda_qatnashishi= int(input(\"Darsda_qatnashishi ning qiymatini kiriting: \"))\n",
        "new_Amaliyot_bahosi = int(input(\"Amaliyot bahosining  qiymatini kiriting: \"))\n",
        "new_Mustaqil_ta_lim = int(input(\"Mustaqil ta'lim bahosining  qiymatini kiriting: \"))\n",
        "new_Daftar = (input(\" Daftar ning qiymatini kiriting: \"))\n",
        "new_Qushimcha_ish = (input(\" Qushimcha_ish ning qiymatini kiriting: \"))\n",
        "new_Tugarak_yoki_kurs=(input(\"Tugarak_yoki_kursning qiymatini kiriting: \"))\n",
        "new_Laboratoriya_bahosi=int(input(\"Laboratoriya bahosining  qiymatini kiriting: \"))\n",
        "knn.fit(data, cclass)\n",
        "new_instance = [(new_Davomat,new_Darsda_qatnashishi,new_Amaliyot_bahosi,new_Mustaqil_ta_lim,new_Daftar, new_Qushimcha_ish,new_Tugarak_yoki_kurs,\n",
        "                 new_Laboratoriya_bahosi )]\n",
        "accuracy = accuracy_score(data,cclass)\n",
        "print(\"Model aniqligi:\", accuracy)"
      ]
    },
    {
      "cell_type": "code",
      "source": [
        "print(df.columns)"
      ],
      "metadata": {
        "colab": {
          "base_uri": "https://localhost:8080/"
        },
        "id": "-R1cDCtSTpwQ",
        "outputId": "0c2c5402-078b-422e-e01f-0ed46ff92019"
      },
      "execution_count": null,
      "outputs": [
        {
          "output_type": "stream",
          "name": "stdout",
          "text": [
            "Index(['ID', 'Davomat ', 'Darsda_qatnashishi ', 'Amaliyot_bahosi',\n",
            "       'Mustaqil_ta_lim', 'Daftar', 'Qushimcha_ish ', 'Tugarak_yoki_kurs',\n",
            "       'Laboratoriya_bahosi ', 'Class'],\n",
            "      dtype='object')\n"
          ]
        }
      ]
    },
    {
      "cell_type": "code",
      "source": [
        "new_Davomat = df['Davomat']"
      ],
      "metadata": {
        "colab": {
          "base_uri": "https://localhost:8080/",
          "height": 569
        },
        "id": "iyjYn0isTwk2",
        "outputId": "e873336d-50b4-4e1c-9eff-cb0f39bb3167"
      },
      "execution_count": null,
      "outputs": [
        {
          "output_type": "error",
          "ename": "KeyError",
          "evalue": "'Davomat'",
          "traceback": [
            "\u001b[0;31m---------------------------------------------------------------------------\u001b[0m",
            "\u001b[0;31mKeyError\u001b[0m                                  Traceback (most recent call last)",
            "\u001b[0;32m/usr/local/lib/python3.10/dist-packages/pandas/core/indexes/base.py\u001b[0m in \u001b[0;36mget_loc\u001b[0;34m(self, key)\u001b[0m\n\u001b[1;32m   3652\u001b[0m         \u001b[0;32mtry\u001b[0m\u001b[0;34m:\u001b[0m\u001b[0;34m\u001b[0m\u001b[0;34m\u001b[0m\u001b[0m\n\u001b[0;32m-> 3653\u001b[0;31m             \u001b[0;32mreturn\u001b[0m \u001b[0mself\u001b[0m\u001b[0;34m.\u001b[0m\u001b[0m_engine\u001b[0m\u001b[0;34m.\u001b[0m\u001b[0mget_loc\u001b[0m\u001b[0;34m(\u001b[0m\u001b[0mcasted_key\u001b[0m\u001b[0;34m)\u001b[0m\u001b[0;34m\u001b[0m\u001b[0;34m\u001b[0m\u001b[0m\n\u001b[0m\u001b[1;32m   3654\u001b[0m         \u001b[0;32mexcept\u001b[0m \u001b[0mKeyError\u001b[0m \u001b[0;32mas\u001b[0m \u001b[0merr\u001b[0m\u001b[0;34m:\u001b[0m\u001b[0;34m\u001b[0m\u001b[0;34m\u001b[0m\u001b[0m\n",
            "\u001b[0;32m/usr/local/lib/python3.10/dist-packages/pandas/_libs/index.pyx\u001b[0m in \u001b[0;36mpandas._libs.index.IndexEngine.get_loc\u001b[0;34m()\u001b[0m\n",
            "\u001b[0;32m/usr/local/lib/python3.10/dist-packages/pandas/_libs/index.pyx\u001b[0m in \u001b[0;36mpandas._libs.index.IndexEngine.get_loc\u001b[0;34m()\u001b[0m\n",
            "\u001b[0;32mpandas/_libs/hashtable_class_helper.pxi\u001b[0m in \u001b[0;36mpandas._libs.hashtable.PyObjectHashTable.get_item\u001b[0;34m()\u001b[0m\n",
            "\u001b[0;32mpandas/_libs/hashtable_class_helper.pxi\u001b[0m in \u001b[0;36mpandas._libs.hashtable.PyObjectHashTable.get_item\u001b[0;34m()\u001b[0m\n",
            "\u001b[0;31mKeyError\u001b[0m: 'Davomat'",
            "\nThe above exception was the direct cause of the following exception:\n",
            "\u001b[0;31mKeyError\u001b[0m                                  Traceback (most recent call last)",
            "\u001b[0;32m<ipython-input-4-cd05661d8175>\u001b[0m in \u001b[0;36m<cell line: 1>\u001b[0;34m()\u001b[0m\n\u001b[0;32m----> 1\u001b[0;31m \u001b[0mnew_Davomat\u001b[0m \u001b[0;34m=\u001b[0m \u001b[0mdf\u001b[0m\u001b[0;34m[\u001b[0m\u001b[0;34m'Davomat'\u001b[0m\u001b[0;34m]\u001b[0m\u001b[0;34m\u001b[0m\u001b[0;34m\u001b[0m\u001b[0m\n\u001b[0m",
            "\u001b[0;32m/usr/local/lib/python3.10/dist-packages/pandas/core/frame.py\u001b[0m in \u001b[0;36m__getitem__\u001b[0;34m(self, key)\u001b[0m\n\u001b[1;32m   3759\u001b[0m             \u001b[0;32mif\u001b[0m \u001b[0mself\u001b[0m\u001b[0;34m.\u001b[0m\u001b[0mcolumns\u001b[0m\u001b[0;34m.\u001b[0m\u001b[0mnlevels\u001b[0m \u001b[0;34m>\u001b[0m \u001b[0;36m1\u001b[0m\u001b[0;34m:\u001b[0m\u001b[0;34m\u001b[0m\u001b[0;34m\u001b[0m\u001b[0m\n\u001b[1;32m   3760\u001b[0m                 \u001b[0;32mreturn\u001b[0m \u001b[0mself\u001b[0m\u001b[0;34m.\u001b[0m\u001b[0m_getitem_multilevel\u001b[0m\u001b[0;34m(\u001b[0m\u001b[0mkey\u001b[0m\u001b[0;34m)\u001b[0m\u001b[0;34m\u001b[0m\u001b[0;34m\u001b[0m\u001b[0m\n\u001b[0;32m-> 3761\u001b[0;31m             \u001b[0mindexer\u001b[0m \u001b[0;34m=\u001b[0m \u001b[0mself\u001b[0m\u001b[0;34m.\u001b[0m\u001b[0mcolumns\u001b[0m\u001b[0;34m.\u001b[0m\u001b[0mget_loc\u001b[0m\u001b[0;34m(\u001b[0m\u001b[0mkey\u001b[0m\u001b[0;34m)\u001b[0m\u001b[0;34m\u001b[0m\u001b[0;34m\u001b[0m\u001b[0m\n\u001b[0m\u001b[1;32m   3762\u001b[0m             \u001b[0;32mif\u001b[0m \u001b[0mis_integer\u001b[0m\u001b[0;34m(\u001b[0m\u001b[0mindexer\u001b[0m\u001b[0;34m)\u001b[0m\u001b[0;34m:\u001b[0m\u001b[0;34m\u001b[0m\u001b[0;34m\u001b[0m\u001b[0m\n\u001b[1;32m   3763\u001b[0m                 \u001b[0mindexer\u001b[0m \u001b[0;34m=\u001b[0m \u001b[0;34m[\u001b[0m\u001b[0mindexer\u001b[0m\u001b[0;34m]\u001b[0m\u001b[0;34m\u001b[0m\u001b[0;34m\u001b[0m\u001b[0m\n",
            "\u001b[0;32m/usr/local/lib/python3.10/dist-packages/pandas/core/indexes/base.py\u001b[0m in \u001b[0;36mget_loc\u001b[0;34m(self, key)\u001b[0m\n\u001b[1;32m   3653\u001b[0m             \u001b[0;32mreturn\u001b[0m \u001b[0mself\u001b[0m\u001b[0;34m.\u001b[0m\u001b[0m_engine\u001b[0m\u001b[0;34m.\u001b[0m\u001b[0mget_loc\u001b[0m\u001b[0;34m(\u001b[0m\u001b[0mcasted_key\u001b[0m\u001b[0;34m)\u001b[0m\u001b[0;34m\u001b[0m\u001b[0;34m\u001b[0m\u001b[0m\n\u001b[1;32m   3654\u001b[0m         \u001b[0;32mexcept\u001b[0m \u001b[0mKeyError\u001b[0m \u001b[0;32mas\u001b[0m \u001b[0merr\u001b[0m\u001b[0;34m:\u001b[0m\u001b[0;34m\u001b[0m\u001b[0;34m\u001b[0m\u001b[0m\n\u001b[0;32m-> 3655\u001b[0;31m             \u001b[0;32mraise\u001b[0m \u001b[0mKeyError\u001b[0m\u001b[0;34m(\u001b[0m\u001b[0mkey\u001b[0m\u001b[0;34m)\u001b[0m \u001b[0;32mfrom\u001b[0m \u001b[0merr\u001b[0m\u001b[0;34m\u001b[0m\u001b[0;34m\u001b[0m\u001b[0m\n\u001b[0m\u001b[1;32m   3656\u001b[0m         \u001b[0;32mexcept\u001b[0m \u001b[0mTypeError\u001b[0m\u001b[0;34m:\u001b[0m\u001b[0;34m\u001b[0m\u001b[0;34m\u001b[0m\u001b[0m\n\u001b[1;32m   3657\u001b[0m             \u001b[0;31m# If we have a listlike key, _check_indexing_error will raise\u001b[0m\u001b[0;34m\u001b[0m\u001b[0;34m\u001b[0m\u001b[0m\n",
            "\u001b[0;31mKeyError\u001b[0m: 'Davomat'"
          ]
        }
      ]
    },
    {
      "cell_type": "code",
      "source": [
        "df.columns = df.columns.str.strip()\n"
      ],
      "metadata": {
        "id": "W0h_gyafT5G5"
      },
      "execution_count": null,
      "outputs": []
    },
    {
      "cell_type": "code",
      "source": [
        "print(df.head())\n"
      ],
      "metadata": {
        "id": "SS1mmywzT8hY",
        "outputId": "f70bbcd1-a56f-4217-88f6-b65b3aa0dfa4",
        "colab": {
          "base_uri": "https://localhost:8080/"
        }
      },
      "execution_count": null,
      "outputs": [
        {
          "output_type": "stream",
          "name": "stdout",
          "text": [
            "   ID  Davomat Darsda_qatnashishi  Amaliyot_bahosi  Mustaqil_ta_lim   Daftar  \\\n",
            "0   1    A_lo            Har_doim                4                5  Yaxshi    \n",
            "1   2    A_lo            Har_doim                5                5  Yaxshi    \n",
            "2   3    A_lo            Har_doim                5                4    Tuliq   \n",
            "3   4    A_lo            Har_doim                5                5  Yaxshi    \n",
            "4   5  Yaxshi            Har_doim                4                4  Yaxshi    \n",
            "\n",
            "   Qushimcha_ish Tugarak_yoki_kurs  Laboratoriya_bahosi  Class  \n",
            "0            Yuq               Ha                     5      5  \n",
            "1  Ha_sohaga_oid               Ha                     5      5  \n",
            "2            Yuq               Ha                     4      4  \n",
            "3  Ha_sohaga_oid               Ha                     5      5  \n",
            "4            Yuq               Yuq                    4      4  \n"
          ]
        }
      ]
    },
    {
      "cell_type": "code",
      "source": [
        "import pandas as pd\n",
        "\n",
        "# Read the CSV file\n",
        "df = pd.read_csv('data232.csv')\n",
        "\n",
        "# Print the column names to verify\n",
        "print(\"Column names:\", df.columns)\n",
        "\n",
        "# Strip any leading/trailing spaces from the column names\n",
        "df.columns = df.columns.str.strip()\n",
        "\n",
        "# Print the column names again after stripping spaces\n",
        "print(\"Column names after stripping spaces:\", df.columns)\n",
        "\n",
        "# Print the first few rows of the DataFrame to inspect the data\n",
        "print(df.head())\n",
        "\n",
        "# Access the columns using the corrected names\n",
        "try:\n",
        "    new_Davomat = df['Davomat']\n",
        "    new_Darsda_qatnashishi = df['Darsda_qatnashishi']\n",
        "    new_Amaliyot_bahosi = df['Amaliyot_bahosi']\n",
        "except KeyError as e:\n",
        "    print(f\"Column not found: {e}\")\n"
      ],
      "metadata": {
        "id": "dHXPrr6eT_pL",
        "outputId": "30973c73-ee83-48c3-e47e-798e85d96247",
        "colab": {
          "base_uri": "https://localhost:8080/"
        }
      },
      "execution_count": null,
      "outputs": [
        {
          "output_type": "stream",
          "name": "stdout",
          "text": [
            "Column names: Index(['ID', 'Davomat ', 'Darsda_qatnashishi ', 'Amaliyot_bahosi',\n",
            "       'Mustaqil_ta_lim', 'Daftar', 'Qushimcha_ish ', 'Tugarak_yoki_kurs',\n",
            "       'Laboratoriya_bahosi ', 'Class'],\n",
            "      dtype='object')\n",
            "Column names after stripping spaces: Index(['ID', 'Davomat', 'Darsda_qatnashishi', 'Amaliyot_bahosi',\n",
            "       'Mustaqil_ta_lim', 'Daftar', 'Qushimcha_ish', 'Tugarak_yoki_kurs',\n",
            "       'Laboratoriya_bahosi', 'Class'],\n",
            "      dtype='object')\n",
            "   ID  Davomat Darsda_qatnashishi  Amaliyot_bahosi  Mustaqil_ta_lim   Daftar  \\\n",
            "0   1    A_lo            Har_doim                4                5  Yaxshi    \n",
            "1   2    A_lo            Har_doim                5                5  Yaxshi    \n",
            "2   3    A_lo            Har_doim                5                4    Tuliq   \n",
            "3   4    A_lo            Har_doim                5                5  Yaxshi    \n",
            "4   5  Yaxshi            Har_doim                4                4  Yaxshi    \n",
            "\n",
            "   Qushimcha_ish Tugarak_yoki_kurs  Laboratoriya_bahosi  Class  \n",
            "0            Yuq               Ha                     5      5  \n",
            "1  Ha_sohaga_oid               Ha                     5      5  \n",
            "2            Yuq               Ha                     4      4  \n",
            "3  Ha_sohaga_oid               Ha                     5      5  \n",
            "4            Yuq               Yuq                    4      4  \n"
          ]
        }
      ]
    },
    {
      "cell_type": "code",
      "source": [],
      "metadata": {
        "id": "era0w1rOZfr5"
      },
      "execution_count": null,
      "outputs": []
    }
  ]
}